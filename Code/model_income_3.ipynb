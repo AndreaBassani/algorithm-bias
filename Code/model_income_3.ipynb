{
 "cells": [
  {
   "cell_type": "code",
   "execution_count": 199,
   "metadata": {},
   "outputs": [],
   "source": [
    "import pandas as pd\n",
    "import numpy as np\n",
    "import matplotlib.pyplot as plt\n",
    "import statsmodels.api as sm\n",
    "import seaborn as sns\n",
    "\n",
    "from shap import TreeExplainer\n",
    "from shap import summary_plot\n",
    "\n",
    "# Models\n",
    "from sklearn.model_selection import train_test_split\n",
    "from sklearn.ensemble import RandomForestClassifier\n",
    "from sklearn.datasets import make_classification\n",
    "from sklearn.preprocessing import StandardScaler\n",
    "from sklearn.metrics import classification_report\n",
    "\n",
    "# Bias\n",
    "\n",
    "import aif360\n",
    "from aif360.algorithms.preprocessing import DisparateImpactRemover, Reweighing\n",
    "from aif360.metrics import BinaryLabelDatasetMetric, ClassificationMetric\n",
    "from aif360.datasets import StandardDataset \n",
    "\n",
    "pd.options.mode.chained_assignment = None \n",
    "np.set_printoptions(suppress=True)\n",
    "pd.set_option('display.float_format', lambda x: '%.4f' % x)"
   ]
  },
  {
   "cell_type": "code",
   "execution_count": 155,
   "metadata": {},
   "outputs": [],
   "source": [
    "df_original = pd.read_csv(r\"C:\\Users\\bassa\\Desktop\\Natwest\\Dataset\\adult.csv\")"
   ]
  },
  {
   "cell_type": "code",
   "execution_count": 156,
   "metadata": {},
   "outputs": [],
   "source": [
    "# Rescale the elements of the column to a number\n",
    "def rescale_elements(df, feature):\n",
    "    x=df[feature].value_counts()\n",
    "    item_type_mapping = {}\n",
    "    item_list = x.index\n",
    "    for i in range(0,len(item_list)):\n",
    "        item_type_mapping[item_list[i]] = i\n",
    "    df[feature]=df[feature].map(lambda x:item_type_mapping[x])\n",
    "    return df"
   ]
  },
  {
   "cell_type": "code",
   "execution_count": 157,
   "metadata": {},
   "outputs": [
    {
     "name": "stdout",
     "output_type": "stream",
     "text": [
      "<class 'pandas.core.frame.DataFrame'>\n",
      "RangeIndex: 46447 entries, 0 to 46446\n",
      "Data columns (total 15 columns):\n",
      " #   Column           Non-Null Count  Dtype\n",
      "---  ------           --------------  -----\n",
      " 0   age              46447 non-null  int64\n",
      " 1   workclass        46447 non-null  int64\n",
      " 2   fnlwgt           46447 non-null  int64\n",
      " 3   education        46447 non-null  int64\n",
      " 4   educational-num  46447 non-null  int64\n",
      " 5   marital-status   46447 non-null  int64\n",
      " 6   occupation       46447 non-null  int64\n",
      " 7   relationship     46447 non-null  int64\n",
      " 8   race             46447 non-null  int64\n",
      " 9   gender           46447 non-null  int64\n",
      " 10  capital-gain     46447 non-null  int64\n",
      " 11  capital-loss     46447 non-null  int64\n",
      " 12  hours-per-week   46447 non-null  int64\n",
      " 13  native-country   46447 non-null  int64\n",
      " 14  income           46447 non-null  int64\n",
      "dtypes: int64(15)\n",
      "memory usage: 5.3 MB\n"
     ]
    }
   ],
   "source": [
    "# rescale race (white = 0, black = 1) after dropping: Asian-Pac-Islander, Amer-Indian-Eskimo, Other\n",
    "df = df_original[df_original['race'].isin(['White', 'Black'])]\n",
    "df['race'][df['race'] == 'White'] = 0\n",
    "df['race'][df['race'] == 'Black'] = 1\n",
    "\n",
    "# rescale sex (sex : male = 0 , female = 1)\n",
    "df['gender'][df['gender'] == 'Male'] = 0\n",
    "df['gender'][df['gender'] == 'Female'] = 1\n",
    "\n",
    "# rescale marital status (Married-civ-spouse = 0, Never-married = 1) after dropping 'others'\n",
    "df['marital-status'][df['marital-status'].isin(['Married-civ-spouse', 'Married-spouse-absent', 'Married-AF-spouse'])] = 0\n",
    "df['marital-status'][df['marital-status'].isin(['Never-married', 'Divorced', 'Separated', 'Widowed'])] = 1\n",
    "\n",
    "# rescale income (>50K = 0, <=50K = 1)\n",
    "df['income'][df['income'] == '>50K'] = 0\n",
    "df['income'][df['income'] == '<=50K'] = 1\n",
    "\n",
    "# rescale native-country (United-States = 0, any other country = 1)\n",
    "df['native-country'][df['native-country'] == 'United-States'] = 0\n",
    "df['native-country'][df['native-country'] != 0] = 1\n",
    "\n",
    "# rescale education \n",
    "df = rescale_elements(df, 'education')\n",
    "\n",
    "# rescale relationship\n",
    "df = rescale_elements(df, 'relationship')\n",
    "\n",
    "# rescale occupation\n",
    "df = rescale_elements(df, 'occupation')\n",
    "\n",
    "# rescale workclass\n",
    "df = rescale_elements(df, 'workclass')\n",
    "\n",
    "# Transform the object in integers and reset the index\n",
    "df = df.apply(pd.to_numeric).reset_index(drop=True)\n",
    "df.info()"
   ]
  },
  {
   "cell_type": "markdown",
   "metadata": {},
   "source": [
    "## Metrics"
   ]
  },
  {
   "cell_type": "markdown",
   "metadata": {},
   "source": [
    "#### Disparate Impact Ratio (DIR)\n",
    "\n",
    "It compares the proportion of individuals that receive a positive output for two groups: an unprivileged group and a privileged group.\n",
    "The aim is to have the metric close to one but as a industry standard a result above 80% acceptable.\n",
    "\n",
    "\n",
    "$$\\frac{P(Y=1│D=unpriviledged)}{P(Y=1│D=priviledged)} $$"
   ]
  },
  {
   "cell_type": "markdown",
   "metadata": {},
   "source": [
    "#### Statistical parity\n",
    "\n",
    "Evaluate the proportion of each segment of a protected class (gender). The probability of having a positive outcome should be equal.\n",
    "The metric looks at the difference between the unprivileged and the privilege.\n",
    "\n",
    "$$P(Y│D=unpriviledged) = P(Y│D=priviledged) $$"
   ]
  },
  {
   "cell_type": "markdown",
   "metadata": {},
   "source": [
    "#### Equal opportunity \n",
    "\n",
    "States that each group should get the positive outcome at equal rates, assuming that people in this group qualify for it. It requires the positive outcome to be independent of the protected class A, conditional on Y being an actual positive.\n",
    "Based on the confusion matrix, we require the True Positive Rate (TPR) to be the same for each segment of the protected class.\n",
    "\n",
    "$$P(Y=1│D=unpriviledged, Y=y) = P(Y=1│D=priviledged,Y=y), y\\in{0,1} $$\n"
   ]
  },
  {
   "cell_type": "code",
   "execution_count": 158,
   "metadata": {},
   "outputs": [],
   "source": [
    "def fair_metrics(data, y_pred, target, protected_attribute_names) :\n",
    "    dataset = StandardDataset(data, \n",
    "                          label_name=target, \n",
    "                          favorable_classes=[0], \n",
    "                          protected_attribute_names=protected_attribute_names, \n",
    "                          privileged_classes=[[0]])\n",
    "\n",
    "    dataset_pred = dataset.copy()\n",
    "    dataset_pred.labels = y_pred\n",
    "\n",
    "    attr = dataset_pred.protected_attribute_names[0]\n",
    "\n",
    "    idx = dataset_pred.protected_attribute_names.index(attr)\n",
    "    privileged_groups =  [{attr:dataset_pred.privileged_protected_attributes[idx][0]}] \n",
    "    unprivileged_groups = [{attr:dataset_pred.unprivileged_protected_attributes[idx][0]}] \n",
    "\n",
    "    classified_metric = ClassificationMetric(dataset, dataset_pred, unprivileged_groups=unprivileged_groups, privileged_groups=privileged_groups)\n",
    "\n",
    "    metric_pred = BinaryLabelDatasetMetric(dataset_pred, unprivileged_groups=unprivileged_groups, privileged_groups=privileged_groups)\n",
    "\n",
    "    result = {f'disparate_impact_{protected_attribute_names[0]}': metric_pred.disparate_impact(),\n",
    "              f'statistical_parity_difference_{protected_attribute_names[0]}': metric_pred.statistical_parity_difference(),\n",
    "              f'equal_opportunity_difference_{protected_attribute_names[0]}': classified_metric.equal_opportunity_difference()}\n",
    "        \n",
    "    return result"
   ]
  },
  {
   "cell_type": "markdown",
   "metadata": {},
   "source": [
    "## Mitigation"
   ]
  },
  {
   "cell_type": "markdown",
   "metadata": {},
   "source": [
    "#### Disaparate impact remover"
   ]
  },
  {
   "cell_type": "code",
   "execution_count": 159,
   "metadata": {},
   "outputs": [],
   "source": [
    "# sex (sex : male = 0 , female = 1) - income (>50K = 0, <=50K = 1)\n",
    "def DIR(data, target_variable, protect_attriburte):\n",
    "    binaryLabelDataset = aif360.datasets.BinaryLabelDataset(\n",
    "        favorable_label= 0,\n",
    "        unfavorable_label= 1,\n",
    "        df= data,\n",
    "        label_names=[target_variable],\n",
    "        protected_attribute_names=[protect_attriburte])\n",
    "    di = DisparateImpactRemover(repair_level = 1.0)\n",
    "    dataset_transf_train = di.fit_transform(binaryLabelDataset)\n",
    "    transformed = dataset_transf_train.convert_to_dataframe()[0]\n",
    "    x_trans = transformed.drop([target_variable], axis = 1)\n",
    "    y = transformed[target_variable]\n",
    "    return x_trans, y, transformed"
   ]
  },
  {
   "cell_type": "markdown",
   "metadata": {},
   "source": [
    "#### Reweighing"
   ]
  },
  {
   "cell_type": "code",
   "execution_count": 160,
   "metadata": {},
   "outputs": [],
   "source": [
    "# sex (sex : male = 0 , female = 1) - income (>50K = 0, <=50K = 1)\n",
    "def reweighing(data, target_variable, protect_attriburte):\n",
    "    binaryLabelDataset = aif360.datasets.BinaryLabelDataset(\n",
    "        favorable_label= 0,\n",
    "        unfavorable_label= 1,\n",
    "        df= data,\n",
    "        label_names=[target_variable],\n",
    "        protected_attribute_names=[protect_attriburte])\n",
    "    RW = Reweighing(unprivileged_groups=[{protect_attriburte: 1}],\n",
    "               privileged_groups=[{protect_attriburte: 0}])\n",
    "    RW.fit(binaryLabelDataset)\n",
    "    dataset_transf_train = RW.transform(binaryLabelDataset)\n",
    "    return dataset_transf_train.instance_weights"
   ]
  },
  {
   "cell_type": "code",
   "execution_count": 161,
   "metadata": {},
   "outputs": [],
   "source": [
    "binaryLabelDataset = aif360.datasets.BinaryLabelDataset(\n",
    "    favorable_label= 0,\n",
    "    unfavorable_label= 1,\n",
    "    df= df,\n",
    "    label_names=['income'],\n",
    "    protected_attribute_names=['gender'])\n",
    "RW = Reweighing(unprivileged_groups=[{'gender': 1}],\n",
    "            privileged_groups=[{'gender': 0}])\n",
    "RW.fit(binaryLabelDataset)\n",
    "dataset_transf_train = RW.transform(binaryLabelDataset)"
   ]
  },
  {
   "cell_type": "code",
   "execution_count": 162,
   "metadata": {},
   "outputs": [],
   "source": [
    "### Testing\n",
    "assert np.abs(dataset_transf_train.instance_weights.sum()- binaryLabelDataset.instance_weights.sum())<1e-6"
   ]
  },
  {
   "cell_type": "markdown",
   "metadata": {},
   "source": [
    "## Data split"
   ]
  },
  {
   "cell_type": "code",
   "execution_count": 163,
   "metadata": {},
   "outputs": [],
   "source": [
    "# Split the normal dataset\n",
    "x = df.drop(['income'], axis = 1)\n",
    "scaler = StandardScaler()\n",
    "x_data = scaler.fit_transform(x)\n",
    "y = df['income'] \n",
    "default_seed = 1\n",
    "x_train, x_test, y_train, y_test = train_test_split(x_data, y, test_size=0.4, random_state=default_seed)\n",
    "x_train = pd.DataFrame(x_train, columns=x.columns)"
   ]
  },
  {
   "cell_type": "code",
   "execution_count": 164,
   "metadata": {},
   "outputs": [],
   "source": [
    "# Split the DIR dataset\n",
    "df_train = x_train.copy()\n",
    "df_train['income'] = y_train.reset_index(drop=True)\n",
    "x_trans_test, y_trans, df_trans = DIR(df_train, 'income', 'race')"
   ]
  },
  {
   "cell_type": "markdown",
   "metadata": {},
   "source": [
    "## EDA"
   ]
  },
  {
   "cell_type": "code",
   "execution_count": 200,
   "metadata": {},
   "outputs": [
    {
     "name": "stderr",
     "output_type": "stream",
     "text": [
      "Matplotlib is currently using agg, which is a non-GUI backend, so cannot show the figure.\n"
     ]
    }
   ],
   "source": [
    "plt.figure(figsize=(15,10))  \n",
    "sns.heatmap(df.corr(),annot=True,linewidths=.5, cmap=\"Blues\")\n",
    "plt.title('Heatmap showing correlations between numerical data')\n",
    "plt.show()"
   ]
  },
  {
   "cell_type": "code",
   "execution_count": 166,
   "metadata": {},
   "outputs": [
    {
     "data": {
      "text/plain": [
       "{'disparate_impact_gender': 0.35753759606703406,\n",
       " 'statistical_parity_difference_gender': -0.19615422907428784,\n",
       " 'equal_opportunity_difference_gender': 0.0}"
      ]
     },
     "execution_count": 166,
     "metadata": {},
     "output_type": "execute_result"
    }
   ],
   "source": [
    "fair_metrics(df, df['income'], 'income', ['gender'])"
   ]
  },
  {
   "cell_type": "code",
   "execution_count": 167,
   "metadata": {},
   "outputs": [],
   "source": [
    "def distribution_features_groups(df, sensitive_attribute):\n",
    "    fig, axes = plt.subplots(nrows=3, ncols=5, figsize=(20, 7), sharex=False, sharey=False)\n",
    "    axes = axes.ravel()  # array to 1D\n",
    "    columns = df.columns\n",
    "    cols = columns[columns != sensitive_attribute]  # create a list of dataframe columns to use\n",
    "\n",
    "    for col, ax in zip(cols, axes):\n",
    "        data = df[[col, sensitive_attribute]]  # select the data\n",
    "        sns.kdeplot(data=data, x=col, hue=sensitive_attribute, shade=True, ax=ax)\n",
    "        ax.set(title=f'Distribution of Column: {col}', xlabel=None)\n",
    "        \n",
    "    fig.delaxes(axes[-1]) # delete the empty subplot\n",
    "    fig.tight_layout()\n",
    "    return plt.show()"
   ]
  },
  {
   "cell_type": "code",
   "execution_count": 168,
   "metadata": {},
   "outputs": [
    {
     "name": "stderr",
     "output_type": "stream",
     "text": [
      "Matplotlib is currently using agg, which is a non-GUI backend, so cannot show the figure.\n"
     ]
    }
   ],
   "source": [
    "distribution_features_groups(df, 'gender')"
   ]
  },
  {
   "cell_type": "code",
   "execution_count": 169,
   "metadata": {},
   "outputs": [
    {
     "name": "stderr",
     "output_type": "stream",
     "text": [
      "Dataset has 0 variance; skipping density estimate. Pass `warn_singular=False` to disable this warning.\n",
      "Matplotlib is currently using agg, which is a non-GUI backend, so cannot show the figure.\n"
     ]
    }
   ],
   "source": [
    "distribution_features_groups(df[df['income'] == 0], 'gender')"
   ]
  },
  {
   "cell_type": "code",
   "execution_count": 170,
   "metadata": {},
   "outputs": [
    {
     "name": "stderr",
     "output_type": "stream",
     "text": [
      "Matplotlib is currently using agg, which is a non-GUI backend, so cannot show the figure.\n",
      "Matplotlib is currently using agg, which is a non-GUI backend, so cannot show the figure.\n"
     ]
    }
   ],
   "source": [
    "distribution_features_groups(x_train, 'gender')\n",
    "distribution_features_groups(df_trans, 'gender')"
   ]
  },
  {
   "cell_type": "markdown",
   "metadata": {},
   "source": [
    "## Beta coeff experiment "
   ]
  },
  {
   "cell_type": "code",
   "execution_count": 171,
   "metadata": {},
   "outputs": [],
   "source": [
    "#Function to transform the continuous prediciton to a binary classification \n",
    "\n",
    "def binomial_classification(y_predition):\n",
    "    \n",
    "    '''Transform the continual prediction to a binary classification\n",
    "        1 = Default, 0 = Non Default \n",
    "        input = the continuos prediction from the model\n",
    "        output = pandas data frame with the binary classification on the colum prediction '''\n",
    "\n",
    "    y_predict = pd.DataFrame(y_predition, columns=['prediction'])\n",
    "    y_predict['prediction'][y_predict['prediction'] >= 0.5] = 1\n",
    "    y_predict['prediction'][y_predict['prediction'] < 0.5] = 0\n",
    "    return y_predict"
   ]
  },
  {
   "cell_type": "code",
   "execution_count": 172,
   "metadata": {},
   "outputs": [],
   "source": [
    "linear_model = sm.OLS(y_train.reset_index(drop=True), x_train).fit()\n",
    "linear_model_trans = sm.OLS(y_trans, x_trans_test).fit()"
   ]
  },
  {
   "cell_type": "code",
   "execution_count": 173,
   "metadata": {},
   "outputs": [],
   "source": [
    "# Calculatet the weight\n",
    "df_train_rw = df_train.copy()\n",
    "df_train_rw['gender'][df_train_rw['gender'] < 0] = 0\n",
    "df_train_rw['gender'][df_train_rw['gender'] > 0] = 1\n",
    "\n",
    "weights = reweighing(df_train_rw, 'income', 'gender')\n",
    "linear_models_reweigh = sm.WLS(y_train.reset_index(drop=True), x_train, weights=weights).fit()"
   ]
  },
  {
   "cell_type": "code",
   "execution_count": 174,
   "metadata": {},
   "outputs": [
    {
     "data": {
      "text/html": [
       "<div>\n",
       "<style scoped>\n",
       "    .dataframe tbody tr th:only-of-type {\n",
       "        vertical-align: middle;\n",
       "    }\n",
       "\n",
       "    .dataframe tbody tr th {\n",
       "        vertical-align: top;\n",
       "    }\n",
       "\n",
       "    .dataframe thead th {\n",
       "        text-align: right;\n",
       "    }\n",
       "</style>\n",
       "<table border=\"1\" class=\"dataframe\">\n",
       "  <thead>\n",
       "    <tr style=\"text-align: right;\">\n",
       "      <th></th>\n",
       "      <th>Non-processed</th>\n",
       "      <th>DIR df</th>\n",
       "      <th>change %</th>\n",
       "    </tr>\n",
       "  </thead>\n",
       "  <tbody>\n",
       "    <tr>\n",
       "      <th>age</th>\n",
       "      <td>-0.0422</td>\n",
       "      <td>-0.1099</td>\n",
       "      <td>160.5020</td>\n",
       "    </tr>\n",
       "    <tr>\n",
       "      <th>workclass</th>\n",
       "      <td>-0.0092</td>\n",
       "      <td>-0.0245</td>\n",
       "      <td>165.5413</td>\n",
       "    </tr>\n",
       "    <tr>\n",
       "      <th>fnlwgt</th>\n",
       "      <td>-0.0159</td>\n",
       "      <td>-0.0345</td>\n",
       "      <td>117.3883</td>\n",
       "    </tr>\n",
       "    <tr>\n",
       "      <th>education</th>\n",
       "      <td>-0.0257</td>\n",
       "      <td>-0.0194</td>\n",
       "      <td>-24.7267</td>\n",
       "    </tr>\n",
       "    <tr>\n",
       "      <th>educational-num</th>\n",
       "      <td>-0.1101</td>\n",
       "      <td>-0.0586</td>\n",
       "      <td>-46.7875</td>\n",
       "    </tr>\n",
       "    <tr>\n",
       "      <th>marital-status</th>\n",
       "      <td>0.1450</td>\n",
       "      <td>0.0902</td>\n",
       "      <td>-37.8016</td>\n",
       "    </tr>\n",
       "    <tr>\n",
       "      <th>occupation</th>\n",
       "      <td>0.0261</td>\n",
       "      <td>0.0102</td>\n",
       "      <td>-60.7164</td>\n",
       "    </tr>\n",
       "    <tr>\n",
       "      <th>relationship</th>\n",
       "      <td>-0.0167</td>\n",
       "      <td>-0.0543</td>\n",
       "      <td>225.7339</td>\n",
       "    </tr>\n",
       "    <tr>\n",
       "      <th>race</th>\n",
       "      <td>0.0103</td>\n",
       "      <td>0.1399</td>\n",
       "      <td>1262.0536</td>\n",
       "    </tr>\n",
       "    <tr>\n",
       "      <th>gender</th>\n",
       "      <td>0.0177</td>\n",
       "      <td>-0.0268</td>\n",
       "      <td>-251.3229</td>\n",
       "    </tr>\n",
       "    <tr>\n",
       "      <th>capital-gain</th>\n",
       "      <td>-0.0620</td>\n",
       "      <td>-0.2311</td>\n",
       "      <td>272.9894</td>\n",
       "    </tr>\n",
       "    <tr>\n",
       "      <th>capital-loss</th>\n",
       "      <td>-0.0383</td>\n",
       "      <td>-0.0380</td>\n",
       "      <td>-0.7092</td>\n",
       "    </tr>\n",
       "    <tr>\n",
       "      <th>hours-per-week</th>\n",
       "      <td>-0.0376</td>\n",
       "      <td>-0.5075</td>\n",
       "      <td>1248.7251</td>\n",
       "    </tr>\n",
       "    <tr>\n",
       "      <th>native-country</th>\n",
       "      <td>0.0125</td>\n",
       "      <td>0.0153</td>\n",
       "      <td>22.4670</td>\n",
       "    </tr>\n",
       "  </tbody>\n",
       "</table>\n",
       "</div>"
      ],
      "text/plain": [
       "                 Non-processed  DIR df  change %\n",
       "age                    -0.0422 -0.1099  160.5020\n",
       "workclass              -0.0092 -0.0245  165.5413\n",
       "fnlwgt                 -0.0159 -0.0345  117.3883\n",
       "education              -0.0257 -0.0194  -24.7267\n",
       "educational-num        -0.1101 -0.0586  -46.7875\n",
       "marital-status          0.1450  0.0902  -37.8016\n",
       "occupation              0.0261  0.0102  -60.7164\n",
       "relationship           -0.0167 -0.0543  225.7339\n",
       "race                    0.0103  0.1399 1262.0536\n",
       "gender                  0.0177 -0.0268 -251.3229\n",
       "capital-gain           -0.0620 -0.2311  272.9894\n",
       "capital-loss           -0.0383 -0.0380   -0.7092\n",
       "hours-per-week         -0.0376 -0.5075 1248.7251\n",
       "native-country          0.0125  0.0153   22.4670"
      ]
     },
     "execution_count": 174,
     "metadata": {},
     "output_type": "execute_result"
    }
   ],
   "source": [
    "#Buils a data frame for comparison\n",
    "comparison_df = pd.DataFrame(data = {\n",
    "    'Non-processed': linear_model.params,\n",
    "    'DIR df': linear_model_trans.params\n",
    "})\n",
    "\n",
    "#Calculate the change in beta coeff and metrics\n",
    "comparison_df['change %'] = ((comparison_df['DIR df'] - comparison_df['Non-processed']) / comparison_df['Non-processed']) * 100\n",
    "comparison_df"
   ]
  },
  {
   "cell_type": "code",
   "execution_count": 175,
   "metadata": {},
   "outputs": [
    {
     "data": {
      "text/html": [
       "<div>\n",
       "<style scoped>\n",
       "    .dataframe tbody tr th:only-of-type {\n",
       "        vertical-align: middle;\n",
       "    }\n",
       "\n",
       "    .dataframe tbody tr th {\n",
       "        vertical-align: top;\n",
       "    }\n",
       "\n",
       "    .dataframe thead th {\n",
       "        text-align: right;\n",
       "    }\n",
       "</style>\n",
       "<table border=\"1\" class=\"dataframe\">\n",
       "  <thead>\n",
       "    <tr style=\"text-align: right;\">\n",
       "      <th></th>\n",
       "      <th>Non-processed</th>\n",
       "      <th>reweighted df</th>\n",
       "      <th>change %</th>\n",
       "    </tr>\n",
       "  </thead>\n",
       "  <tbody>\n",
       "    <tr>\n",
       "      <th>age</th>\n",
       "      <td>-0.0422</td>\n",
       "      <td>-0.0437</td>\n",
       "      <td>3.4964</td>\n",
       "    </tr>\n",
       "    <tr>\n",
       "      <th>workclass</th>\n",
       "      <td>-0.0092</td>\n",
       "      <td>-0.0111</td>\n",
       "      <td>21.0887</td>\n",
       "    </tr>\n",
       "    <tr>\n",
       "      <th>fnlwgt</th>\n",
       "      <td>-0.0159</td>\n",
       "      <td>-0.0159</td>\n",
       "      <td>0.4178</td>\n",
       "    </tr>\n",
       "    <tr>\n",
       "      <th>education</th>\n",
       "      <td>-0.0257</td>\n",
       "      <td>-0.0265</td>\n",
       "      <td>2.9562</td>\n",
       "    </tr>\n",
       "    <tr>\n",
       "      <th>educational-num</th>\n",
       "      <td>-0.1101</td>\n",
       "      <td>-0.1140</td>\n",
       "      <td>3.5730</td>\n",
       "    </tr>\n",
       "    <tr>\n",
       "      <th>marital-status</th>\n",
       "      <td>0.1450</td>\n",
       "      <td>0.1269</td>\n",
       "      <td>-12.4782</td>\n",
       "    </tr>\n",
       "    <tr>\n",
       "      <th>occupation</th>\n",
       "      <td>0.0261</td>\n",
       "      <td>0.0270</td>\n",
       "      <td>3.3187</td>\n",
       "    </tr>\n",
       "    <tr>\n",
       "      <th>relationship</th>\n",
       "      <td>-0.0167</td>\n",
       "      <td>0.0154</td>\n",
       "      <td>-192.1219</td>\n",
       "    </tr>\n",
       "    <tr>\n",
       "      <th>race</th>\n",
       "      <td>0.0103</td>\n",
       "      <td>0.0073</td>\n",
       "      <td>-29.0514</td>\n",
       "    </tr>\n",
       "    <tr>\n",
       "      <th>gender</th>\n",
       "      <td>0.0177</td>\n",
       "      <td>-0.0556</td>\n",
       "      <td>-414.7345</td>\n",
       "    </tr>\n",
       "    <tr>\n",
       "      <th>capital-gain</th>\n",
       "      <td>-0.0620</td>\n",
       "      <td>-0.0665</td>\n",
       "      <td>7.2479</td>\n",
       "    </tr>\n",
       "    <tr>\n",
       "      <th>capital-loss</th>\n",
       "      <td>-0.0383</td>\n",
       "      <td>-0.0393</td>\n",
       "      <td>2.6391</td>\n",
       "    </tr>\n",
       "    <tr>\n",
       "      <th>hours-per-week</th>\n",
       "      <td>-0.0376</td>\n",
       "      <td>-0.0391</td>\n",
       "      <td>3.8818</td>\n",
       "    </tr>\n",
       "    <tr>\n",
       "      <th>native-country</th>\n",
       "      <td>0.0125</td>\n",
       "      <td>0.0106</td>\n",
       "      <td>-15.3220</td>\n",
       "    </tr>\n",
       "  </tbody>\n",
       "</table>\n",
       "</div>"
      ],
      "text/plain": [
       "                 Non-processed  reweighted df  change %\n",
       "age                    -0.0422        -0.0437    3.4964\n",
       "workclass              -0.0092        -0.0111   21.0887\n",
       "fnlwgt                 -0.0159        -0.0159    0.4178\n",
       "education              -0.0257        -0.0265    2.9562\n",
       "educational-num        -0.1101        -0.1140    3.5730\n",
       "marital-status          0.1450         0.1269  -12.4782\n",
       "occupation              0.0261         0.0270    3.3187\n",
       "relationship           -0.0167         0.0154 -192.1219\n",
       "race                    0.0103         0.0073  -29.0514\n",
       "gender                  0.0177        -0.0556 -414.7345\n",
       "capital-gain           -0.0620        -0.0665    7.2479\n",
       "capital-loss           -0.0383        -0.0393    2.6391\n",
       "hours-per-week         -0.0376        -0.0391    3.8818\n",
       "native-country          0.0125         0.0106  -15.3220"
      ]
     },
     "execution_count": 175,
     "metadata": {},
     "output_type": "execute_result"
    }
   ],
   "source": [
    "#Buils a data frame for comparison\n",
    "comparison_df = pd.DataFrame(data = {\n",
    "    'Non-processed': linear_model.params,\n",
    "    'reweighted df': linear_models_reweigh.params\n",
    "})\n",
    "\n",
    "#Calculate the change in beta coeff and metrics\n",
    "comparison_df['change %'] = ((comparison_df['reweighted df'] - comparison_df['Non-processed']) / comparison_df['Non-processed']) * 100\n",
    "comparison_df"
   ]
  },
  {
   "cell_type": "code",
   "execution_count": 176,
   "metadata": {},
   "outputs": [],
   "source": [
    "# Prediction on the test dataset and trasformation to a bionomial classification 1 = income, 0 = non income\n",
    "y_predict = binomial_classification(linear_model.predict(x_test))\n",
    "y_predict_trans = binomial_classification(linear_model_trans.predict(x_test))\n",
    "\n",
    "#Claculate the disparate impact metric for preprocessed and non-processed experiment\n",
    "metric_df = pd.DataFrame(x_test, columns = x.columns).copy()\n",
    "metric_df['gender'][metric_df['gender'] < 0] = 0\n",
    "metric_df['gender'][metric_df['gender'] > 0] = 1\n",
    "metric_df.insert(0, 'income', y_test.reset_index(drop=True))\n",
    "\n",
    "lr_metric = fair_metrics(metric_df, y_predict.values.ravel(), 'income', ['gender'])\n",
    "lr_trans_metric = fair_metrics(metric_df, y_predict_trans.values.ravel(), 'income', ['gender'])\n",
    "metrics_comparison = pd.DataFrame([lr_metric,lr_trans_metric], index=['linear model','linear model trans']).T\n",
    "metrics_comparison['change %'] = ((metrics_comparison['linear model trans'] - metrics_comparison['linear model']) / metrics_comparison['linear model']) * 100"
   ]
  },
  {
   "cell_type": "code",
   "execution_count": 177,
   "metadata": {},
   "outputs": [
    {
     "data": {
      "text/html": [
       "<div>\n",
       "<style scoped>\n",
       "    .dataframe tbody tr th:only-of-type {\n",
       "        vertical-align: middle;\n",
       "    }\n",
       "\n",
       "    .dataframe tbody tr th {\n",
       "        vertical-align: top;\n",
       "    }\n",
       "\n",
       "    .dataframe thead th {\n",
       "        text-align: right;\n",
       "    }\n",
       "</style>\n",
       "<table border=\"1\" class=\"dataframe\">\n",
       "  <thead>\n",
       "    <tr style=\"text-align: right;\">\n",
       "      <th></th>\n",
       "      <th>linear model</th>\n",
       "      <th>linear model trans</th>\n",
       "      <th>change %</th>\n",
       "    </tr>\n",
       "  </thead>\n",
       "  <tbody>\n",
       "    <tr>\n",
       "      <th>disparate_impact_gender</th>\n",
       "      <td>0.9982</td>\n",
       "      <td>0.8353</td>\n",
       "      <td>-16.3234</td>\n",
       "    </tr>\n",
       "    <tr>\n",
       "      <th>statistical_parity_difference_gender</th>\n",
       "      <td>-0.0018</td>\n",
       "      <td>-0.1440</td>\n",
       "      <td>7896.1929</td>\n",
       "    </tr>\n",
       "    <tr>\n",
       "      <th>equal_opportunity_difference_gender</th>\n",
       "      <td>0.0000</td>\n",
       "      <td>-0.0386</td>\n",
       "      <td>-inf</td>\n",
       "    </tr>\n",
       "  </tbody>\n",
       "</table>\n",
       "</div>"
      ],
      "text/plain": [
       "                                      linear model  linear model trans  \\\n",
       "disparate_impact_gender                     0.9982              0.8353   \n",
       "statistical_parity_difference_gender       -0.0018             -0.1440   \n",
       "equal_opportunity_difference_gender         0.0000             -0.0386   \n",
       "\n",
       "                                      change %  \n",
       "disparate_impact_gender               -16.3234  \n",
       "statistical_parity_difference_gender 7896.1929  \n",
       "equal_opportunity_difference_gender       -inf  "
      ]
     },
     "execution_count": 177,
     "metadata": {},
     "output_type": "execute_result"
    }
   ],
   "source": [
    "metrics_comparison"
   ]
  },
  {
   "cell_type": "code",
   "execution_count": 178,
   "metadata": {},
   "outputs": [],
   "source": [
    "y_predict_reweight = binomial_classification(linear_models_reweigh.predict(x_test))\n",
    "lr_reweight_metric = fair_metrics(metric_df, y_predict_reweight.values.ravel(), 'income', ['gender'])\n",
    "metrics_comparison = pd.DataFrame([lr_metric,lr_reweight_metric], index=['linear model','linear model reweight']).T\n",
    "metrics_comparison['change %'] = ((metrics_comparison['linear model reweight'] - metrics_comparison['linear model']) / metrics_comparison['linear model']) * 100"
   ]
  },
  {
   "cell_type": "code",
   "execution_count": 179,
   "metadata": {},
   "outputs": [
    {
     "data": {
      "text/html": [
       "<div>\n",
       "<style scoped>\n",
       "    .dataframe tbody tr th:only-of-type {\n",
       "        vertical-align: middle;\n",
       "    }\n",
       "\n",
       "    .dataframe tbody tr th {\n",
       "        vertical-align: top;\n",
       "    }\n",
       "\n",
       "    .dataframe thead th {\n",
       "        text-align: right;\n",
       "    }\n",
       "</style>\n",
       "<table border=\"1\" class=\"dataframe\">\n",
       "  <thead>\n",
       "    <tr style=\"text-align: right;\">\n",
       "      <th></th>\n",
       "      <th>linear model</th>\n",
       "      <th>linear model reweight</th>\n",
       "      <th>change %</th>\n",
       "    </tr>\n",
       "  </thead>\n",
       "  <tbody>\n",
       "    <tr>\n",
       "      <th>disparate_impact_gender</th>\n",
       "      <td>0.9982</td>\n",
       "      <td>1.0062</td>\n",
       "      <td>0.8054</td>\n",
       "    </tr>\n",
       "    <tr>\n",
       "      <th>statistical_parity_difference_gender</th>\n",
       "      <td>-0.0018</td>\n",
       "      <td>0.0062</td>\n",
       "      <td>-444.1216</td>\n",
       "    </tr>\n",
       "    <tr>\n",
       "      <th>equal_opportunity_difference_gender</th>\n",
       "      <td>0.0000</td>\n",
       "      <td>0.0003</td>\n",
       "      <td>inf</td>\n",
       "    </tr>\n",
       "  </tbody>\n",
       "</table>\n",
       "</div>"
      ],
      "text/plain": [
       "                                      linear model  linear model reweight  \\\n",
       "disparate_impact_gender                     0.9982                 1.0062   \n",
       "statistical_parity_difference_gender       -0.0018                 0.0062   \n",
       "equal_opportunity_difference_gender         0.0000                 0.0003   \n",
       "\n",
       "                                      change %  \n",
       "disparate_impact_gender                 0.8054  \n",
       "statistical_parity_difference_gender -444.1216  \n",
       "equal_opportunity_difference_gender        inf  "
      ]
     },
     "execution_count": 179,
     "metadata": {},
     "output_type": "execute_result"
    }
   ],
   "source": [
    "metrics_comparison"
   ]
  },
  {
   "cell_type": "code",
   "execution_count": 180,
   "metadata": {},
   "outputs": [
    {
     "name": "stdout",
     "output_type": "stream",
     "text": [
      "                                 OLS Regression Results                                \n",
      "=======================================================================================\n",
      "Dep. Variable:                 income   R-squared (uncentered):                   0.082\n",
      "Model:                            OLS   Adj. R-squared (uncentered):              0.081\n",
      "Method:                 Least Squares   F-statistic:                              176.7\n",
      "Date:                Fri, 15 Jul 2022   Prob (F-statistic):                        0.00\n",
      "Time:                        13:31:27   Log-Likelihood:                         -34564.\n",
      "No. Observations:               27868   AIC:                                  6.916e+04\n",
      "Df Residuals:                   27854   BIC:                                  6.927e+04\n",
      "Df Model:                          14                                                  \n",
      "Covariance Type:            nonrobust                                                  \n",
      "===================================================================================\n",
      "                      coef    std err          t      P>|t|      [0.025      0.975]\n",
      "-----------------------------------------------------------------------------------\n",
      "age                -0.0422      0.005     -7.764      0.000      -0.053      -0.032\n",
      "workclass          -0.0092      0.005     -1.792      0.073      -0.019       0.001\n",
      "fnlwgt             -0.0159      0.005     -3.108      0.002      -0.026      -0.006\n",
      "education          -0.0257      0.005     -4.928      0.000      -0.036      -0.016\n",
      "educational-num    -0.1101      0.005    -20.204      0.000      -0.121      -0.099\n",
      "marital-status      0.1450      0.006     23.401      0.000       0.133       0.157\n",
      "occupation          0.0261      0.005      5.031      0.000       0.016       0.036\n",
      "relationship       -0.0167      0.007     -2.540      0.011      -0.030      -0.004\n",
      "race                0.0103      0.005      1.999      0.046       0.000       0.020\n",
      "gender              0.0177      0.006      2.821      0.005       0.005       0.030\n",
      "capital-gain       -0.0620      0.005    -12.059      0.000      -0.072      -0.052\n",
      "capital-loss       -0.0383      0.005     -7.669      0.000      -0.048      -0.028\n",
      "hours-per-week     -0.0376      0.005     -7.143      0.000      -0.048      -0.027\n",
      "native-country      0.0125      0.005      2.433      0.015       0.002       0.023\n",
      "==============================================================================\n",
      "Omnibus:                     1519.393   Durbin-Watson:                   0.340\n",
      "Prob(Omnibus):                  0.000   Jarque-Bera (JB):             1689.805\n",
      "Skew:                          -0.584   Prob(JB):                         0.00\n",
      "Kurtosis:                       2.697   Cond. No.                         2.39\n",
      "==============================================================================\n",
      "\n",
      "Notes:\n",
      "[1] R² is computed without centering (uncentered) since the model does not contain a constant.\n",
      "[2] Standard Errors assume that the covariance matrix of the errors is correctly specified.\n"
     ]
    }
   ],
   "source": [
    "print(linear_model.summary())"
   ]
  },
  {
   "cell_type": "code",
   "execution_count": 181,
   "metadata": {},
   "outputs": [
    {
     "name": "stdout",
     "output_type": "stream",
     "text": [
      "                                 OLS Regression Results                                \n",
      "=======================================================================================\n",
      "Dep. Variable:                 income   R-squared (uncentered):                   0.526\n",
      "Model:                            OLS   Adj. R-squared (uncentered):              0.526\n",
      "Method:                 Least Squares   F-statistic:                              2211.\n",
      "Date:                Fri, 15 Jul 2022   Prob (F-statistic):                        0.00\n",
      "Time:                        13:31:27   Log-Likelihood:                         -25337.\n",
      "No. Observations:               27868   AIC:                                  5.070e+04\n",
      "Df Residuals:                   27854   BIC:                                  5.082e+04\n",
      "Df Model:                          14                                                  \n",
      "Covariance Type:            nonrobust                                                  \n",
      "===================================================================================\n",
      "                      coef    std err          t      P>|t|      [0.025      0.975]\n",
      "-----------------------------------------------------------------------------------\n",
      "age                -0.1099      0.004    -25.573      0.000      -0.118      -0.101\n",
      "workclass          -0.0245      0.004     -6.012      0.000      -0.032      -0.016\n",
      "fnlwgt             -0.0345      0.004     -9.218      0.000      -0.042      -0.027\n",
      "education          -0.0194      0.004     -5.161      0.000      -0.027      -0.012\n",
      "educational-num    -0.0586      0.004    -14.955      0.000      -0.066      -0.051\n",
      "marital-status      0.0902      0.004     20.345      0.000       0.082       0.099\n",
      "occupation          0.0102      0.004      2.750      0.006       0.003       0.018\n",
      "relationship       -0.0543      0.005    -11.547      0.000      -0.064      -0.045\n",
      "race                0.1399      0.004     37.223      0.000       0.133       0.147\n",
      "gender             -0.0268      0.004     -5.963      0.000      -0.036      -0.018\n",
      "capital-gain       -0.2311      0.008    -28.362      0.000      -0.247      -0.215\n",
      "capital-loss       -0.0380      0.004     -9.989      0.000      -0.045      -0.031\n",
      "hours-per-week     -0.5075      0.003   -148.430      0.000      -0.514      -0.501\n",
      "native-country      0.0153      0.004      4.148      0.000       0.008       0.023\n",
      "==============================================================================\n",
      "Omnibus:                     2728.522   Durbin-Watson:                   1.358\n",
      "Prob(Omnibus):                  0.000   Jarque-Bera (JB):            11294.882\n",
      "Skew:                           0.421   Prob(JB):                         0.00\n",
      "Kurtosis:                       6.003   Cond. No.                         3.41\n",
      "==============================================================================\n",
      "\n",
      "Notes:\n",
      "[1] R² is computed without centering (uncentered) since the model does not contain a constant.\n",
      "[2] Standard Errors assume that the covariance matrix of the errors is correctly specified.\n"
     ]
    }
   ],
   "source": [
    "print(linear_model_trans.summary())"
   ]
  },
  {
   "cell_type": "code",
   "execution_count": 182,
   "metadata": {},
   "outputs": [
    {
     "name": "stdout",
     "output_type": "stream",
     "text": [
      "                                 WLS Regression Results                                \n",
      "=======================================================================================\n",
      "Dep. Variable:                 income   R-squared (uncentered):                   0.075\n",
      "Model:                            WLS   Adj. R-squared (uncentered):              0.074\n",
      "Method:                 Least Squares   F-statistic:                              160.6\n",
      "Date:                Fri, 15 Jul 2022   Prob (F-statistic):                        0.00\n",
      "Time:                        13:31:27   Log-Likelihood:                         -35027.\n",
      "No. Observations:               27868   AIC:                                  7.008e+04\n",
      "Df Residuals:                   27854   BIC:                                  7.020e+04\n",
      "Df Model:                          14                                                  \n",
      "Covariance Type:            nonrobust                                                  \n",
      "===================================================================================\n",
      "                      coef    std err          t      P>|t|      [0.025      0.975]\n",
      "-----------------------------------------------------------------------------------\n",
      "age                -0.0437      0.005     -7.954      0.000      -0.054      -0.033\n",
      "workclass          -0.0111      0.005     -2.143      0.032      -0.021      -0.001\n",
      "fnlwgt             -0.0159      0.005     -3.112      0.002      -0.026      -0.006\n",
      "education          -0.0265      0.005     -5.076      0.000      -0.037      -0.016\n",
      "educational-num    -0.1140      0.005    -20.911      0.000      -0.125      -0.103\n",
      "marital-status      0.1269      0.006     21.681      0.000       0.115       0.138\n",
      "occupation          0.0270      0.005      5.199      0.000       0.017       0.037\n",
      "relationship        0.0154      0.006      2.467      0.014       0.003       0.028\n",
      "race                0.0073      0.005      1.405      0.160      -0.003       0.017\n",
      "gender             -0.0556      0.006     -8.870      0.000      -0.068      -0.043\n",
      "capital-gain       -0.0665      0.005    -12.900      0.000      -0.077      -0.056\n",
      "capital-loss       -0.0393      0.005     -7.853      0.000      -0.049      -0.029\n",
      "hours-per-week     -0.0391      0.005     -7.417      0.000      -0.049      -0.029\n",
      "native-country      0.0106      0.005      2.060      0.039       0.001       0.021\n",
      "==============================================================================\n",
      "Omnibus:                     1627.645   Durbin-Watson:                   0.363\n",
      "Prob(Omnibus):                  0.000   Jarque-Bera (JB):             1825.274\n",
      "Skew:                          -0.607   Prob(JB):                         0.00\n",
      "Kurtosis:                       2.687   Cond. No.                         2.30\n",
      "==============================================================================\n",
      "\n",
      "Notes:\n",
      "[1] R² is computed without centering (uncentered) since the model does not contain a constant.\n",
      "[2] Standard Errors assume that the covariance matrix of the errors is correctly specified.\n"
     ]
    }
   ],
   "source": [
    "print(linear_models_reweigh.summary())"
   ]
  },
  {
   "cell_type": "markdown",
   "metadata": {},
   "source": [
    "#### Interactional effect"
   ]
  },
  {
   "cell_type": "code",
   "execution_count": 183,
   "metadata": {},
   "outputs": [
    {
     "name": "stdout",
     "output_type": "stream",
     "text": [
      "                            OLS Regression Results                            \n",
      "==============================================================================\n",
      "Dep. Variable:                 income   R-squared:                       0.141\n",
      "Model:                            OLS   Adj. R-squared:                  0.141\n",
      "Method:                 Least Squares   F-statistic:                     381.4\n",
      "Date:                Fri, 15 Jul 2022   Prob (F-statistic):               0.00\n",
      "Time:                        13:31:27   Log-Likelihood:                -13647.\n",
      "No. Observations:               27868   AIC:                         2.732e+04\n",
      "Df Residuals:                   27855   BIC:                         2.743e+04\n",
      "Df Model:                          12                                         \n",
      "Covariance Type:            nonrobust                                         \n",
      "===================================================================================\n",
      "                      coef    std err          t      P>|t|      [0.025      0.975]\n",
      "-----------------------------------------------------------------------------------\n",
      "Intercept           0.7645      0.002    319.840      0.000       0.760       0.769\n",
      "gender              0.0580      0.003     20.015      0.000       0.052       0.064\n",
      "age                -0.0756      0.003    -30.195      0.000      -0.080      -0.071\n",
      "gender:age          0.0273      0.002     11.403      0.000       0.023       0.032\n",
      "race                0.0239      0.003      9.480      0.000       0.019       0.029\n",
      "gender:race        -0.0057      0.002     -2.551      0.011      -0.010      -0.001\n",
      "age:race            0.0083      0.003      3.227      0.001       0.003       0.013\n",
      "gender:age:race    -0.0024      0.002     -1.031      0.303      -0.007       0.002\n",
      "workclass          -0.0269      0.002    -11.186      0.000      -0.032      -0.022\n",
      "fnlwgt             -0.0056      0.002     -2.330      0.020      -0.010      -0.001\n",
      "education          -0.0099      0.002     -4.150      0.000      -0.015      -0.005\n",
      "occupation          0.0636      0.002     26.757      0.000       0.059       0.068\n",
      "relationship        0.0468      0.003     15.621      0.000       0.041       0.053\n",
      "==============================================================================\n",
      "Omnibus:                     3206.070   Durbin-Watson:                   1.994\n",
      "Prob(Omnibus):                  0.000   Jarque-Bera (JB):             4274.943\n",
      "Skew:                          -0.946   Prob(JB):                         0.00\n",
      "Kurtosis:                       2.675   Cond. No.                         2.15\n",
      "==============================================================================\n",
      "\n",
      "Notes:\n",
      "[1] Standard Errors assume that the covariance matrix of the errors is correctly specified.\n"
     ]
    }
   ],
   "source": [
    "import statsmodels.formula.api as smf\n",
    "formula = 'income ~ gender*age*race + workclass + fnlwgt + education + occupation + relationship'\n",
    "model = smf.ols(formula, data=df_train)\n",
    "results = model.fit()\n",
    "print(results.summary())"
   ]
  },
  {
   "cell_type": "code",
   "execution_count": 184,
   "metadata": {},
   "outputs": [
    {
     "name": "stdout",
     "output_type": "stream",
     "text": [
      "                            OLS Regression Results                            \n",
      "==============================================================================\n",
      "Dep. Variable:                 income   R-squared:                       0.140\n",
      "Model:                            OLS   Adj. R-squared:                  0.140\n",
      "Method:                 Least Squares   F-statistic:                     377.6\n",
      "Date:                Fri, 15 Jul 2022   Prob (F-statistic):               0.00\n",
      "Time:                        13:31:27   Log-Likelihood:                -13667.\n",
      "No. Observations:               27868   AIC:                         2.736e+04\n",
      "Df Residuals:                   27855   BIC:                         2.747e+04\n",
      "Df Model:                          12                                         \n",
      "Covariance Type:            nonrobust                                         \n",
      "===================================================================================\n",
      "                      coef    std err          t      P>|t|      [0.025      0.975]\n",
      "-----------------------------------------------------------------------------------\n",
      "Intercept           0.7496      0.002    307.452      0.000       0.745       0.754\n",
      "gender              0.0631      0.003     21.013      0.000       0.057       0.069\n",
      "age                -0.0843      0.003    -30.400      0.000      -0.090      -0.079\n",
      "gender:age          0.0304      0.003     11.407      0.000       0.025       0.036\n",
      "race                0.0281      0.003     11.190      0.000       0.023       0.033\n",
      "gender:race        -0.0075      0.002     -3.306      0.001      -0.012      -0.003\n",
      "age:race            0.0112      0.003      4.322      0.000       0.006       0.016\n",
      "gender:age:race    -0.0035      0.002     -1.455      0.146      -0.008       0.001\n",
      "workclass          -0.0258      0.003     -9.729      0.000      -0.031      -0.021\n",
      "fnlwgt             -0.0058      0.002     -2.355      0.019      -0.011      -0.001\n",
      "education          -0.0099      0.002     -4.161      0.000      -0.015      -0.005\n",
      "occupation          0.0639      0.002     26.837      0.000       0.059       0.069\n",
      "relationship        0.0471      0.003     15.717      0.000       0.041       0.053\n",
      "==============================================================================\n",
      "Omnibus:                     3213.490   Durbin-Watson:                   1.993\n",
      "Prob(Omnibus):                  0.000   Jarque-Bera (JB):             4279.830\n",
      "Skew:                          -0.946   Prob(JB):                         0.00\n",
      "Kurtosis:                       2.670   Cond. No.                         2.22\n",
      "==============================================================================\n",
      "\n",
      "Notes:\n",
      "[1] Standard Errors assume that the covariance matrix of the errors is correctly specified.\n"
     ]
    }
   ],
   "source": [
    "formula = 'income ~ gender*age*race + workclass + fnlwgt + education + occupation + relationship'\n",
    "model = smf.ols(formula, data=df_trans)\n",
    "results = model.fit()\n",
    "print(results.summary())"
   ]
  },
  {
   "cell_type": "markdown",
   "metadata": {},
   "source": [
    "## Random Forrest experiment"
   ]
  },
  {
   "cell_type": "code",
   "execution_count": 185,
   "metadata": {},
   "outputs": [
    {
     "name": "stderr",
     "output_type": "stream",
     "text": [
      "X does not have valid feature names, but RandomForestClassifier was fitted with feature names\n"
     ]
    },
    {
     "name": "stdout",
     "output_type": "stream",
     "text": [
      "              precision    recall  f1-score   support\n",
      "\n",
      "           0       0.74      0.62      0.68      4531\n",
      "           1       0.88      0.93      0.91     14048\n",
      "\n",
      "    accuracy                           0.86     18579\n",
      "   macro avg       0.81      0.78      0.79     18579\n",
      "weighted avg       0.85      0.86      0.85     18579\n",
      "\n"
     ]
    }
   ],
   "source": [
    "# Model trained with original df\n",
    "rf = RandomForestClassifier().fit(x_train, y_train)\n",
    "y_preds_rf = rf.predict(x_test)\n",
    "print(classification_report(y_test, y_preds_rf))"
   ]
  },
  {
   "cell_type": "code",
   "execution_count": 186,
   "metadata": {},
   "outputs": [
    {
     "name": "stderr",
     "output_type": "stream",
     "text": [
      "X does not have valid feature names, but RandomForestClassifier was fitted with feature names\n"
     ]
    },
    {
     "name": "stdout",
     "output_type": "stream",
     "text": [
      "              precision    recall  f1-score   support\n",
      "\n",
      "           0       0.71      0.63      0.67      4531\n",
      "           1       0.89      0.92      0.90     14048\n",
      "\n",
      "    accuracy                           0.85     18579\n",
      "   macro avg       0.80      0.77      0.78     18579\n",
      "weighted avg       0.84      0.85      0.84     18579\n",
      "\n"
     ]
    }
   ],
   "source": [
    "# Model trained with DIR df\n",
    "rf_trans = RandomForestClassifier().fit(x_trans_test, y_trans)\n",
    "y_preds_rf_trans = rf_trans.predict(x_test)\n",
    "print(classification_report(y_test, y_preds_rf_trans))"
   ]
  },
  {
   "cell_type": "code",
   "execution_count": 187,
   "metadata": {},
   "outputs": [
    {
     "name": "stderr",
     "output_type": "stream",
     "text": [
      "X does not have valid feature names, but RandomForestClassifier was fitted with feature names\n"
     ]
    },
    {
     "name": "stdout",
     "output_type": "stream",
     "text": [
      "              precision    recall  f1-score   support\n",
      "\n",
      "           0       0.74      0.62      0.68      4531\n",
      "           1       0.88      0.93      0.91     14048\n",
      "\n",
      "    accuracy                           0.85     18579\n",
      "   macro avg       0.81      0.78      0.79     18579\n",
      "weighted avg       0.85      0.85      0.85     18579\n",
      "\n"
     ]
    }
   ],
   "source": [
    "# Model trained with reweigh df\n",
    "rf_reweight = RandomForestClassifier().fit(x_train, y_train, sample_weight= weights)\n",
    "y_preds_rf_reweight = rf_reweight.predict(x_test)\n",
    "print(classification_report(y_test, y_preds_rf_reweight))"
   ]
  },
  {
   "cell_type": "code",
   "execution_count": 192,
   "metadata": {},
   "outputs": [],
   "source": [
    "#Claculate the disparate impact metric for preprocessed and non-processed experiment\n",
    "metric_df = pd.DataFrame(x_test, columns = x.columns).copy()\n",
    "metric_df['gender'][metric_df['gender'] < 0] = 0\n",
    "metric_df['gender'][metric_df['gender'] > 0] = 1\n",
    "metric_df.insert(0, 'income', y_test.reset_index(drop=True))\n",
    "\n",
    "rf_metric = fair_metrics(metric_df, pd.DataFrame(y_preds_rf).values.ravel(), 'income', ['gender'])\n",
    "rf_trans_metric = fair_metrics(metric_df, y_preds_rf_trans, 'income', ['gender'])\n",
    "metrics_comparison_rf_DIR = pd.DataFrame([rf_metric,lr_trans_metric], index=['rf','rf DIR']).T\n",
    "metrics_comparison_rf_DIR['change %'] = ((metrics_comparison_rf_DIR['rf DIR'] - metrics_comparison_rf_DIR['rf']) / metrics_comparison_rf_DIR['rf']) * 100"
   ]
  },
  {
   "cell_type": "code",
   "execution_count": 193,
   "metadata": {},
   "outputs": [
    {
     "data": {
      "text/html": [
       "<div>\n",
       "<style scoped>\n",
       "    .dataframe tbody tr th:only-of-type {\n",
       "        vertical-align: middle;\n",
       "    }\n",
       "\n",
       "    .dataframe tbody tr th {\n",
       "        vertical-align: top;\n",
       "    }\n",
       "\n",
       "    .dataframe thead th {\n",
       "        text-align: right;\n",
       "    }\n",
       "</style>\n",
       "<table border=\"1\" class=\"dataframe\">\n",
       "  <thead>\n",
       "    <tr style=\"text-align: right;\">\n",
       "      <th></th>\n",
       "      <th>rf</th>\n",
       "      <th>rf DIR</th>\n",
       "      <th>change %</th>\n",
       "    </tr>\n",
       "  </thead>\n",
       "  <tbody>\n",
       "    <tr>\n",
       "      <th>disparate_impact_gender</th>\n",
       "      <td>0.3170</td>\n",
       "      <td>0.2880</td>\n",
       "      <td>-9.1383</td>\n",
       "    </tr>\n",
       "    <tr>\n",
       "      <th>statistical_parity_difference_gender</th>\n",
       "      <td>-0.1810</td>\n",
       "      <td>-0.2032</td>\n",
       "      <td>12.2843</td>\n",
       "    </tr>\n",
       "    <tr>\n",
       "      <th>equal_opportunity_difference_gender</th>\n",
       "      <td>-0.0729</td>\n",
       "      <td>-0.1222</td>\n",
       "      <td>67.6353</td>\n",
       "    </tr>\n",
       "  </tbody>\n",
       "</table>\n",
       "</div>"
      ],
      "text/plain": [
       "                                          rf  rf DIR  change %\n",
       "disparate_impact_gender               0.3170  0.2880   -9.1383\n",
       "statistical_parity_difference_gender -0.1810 -0.2032   12.2843\n",
       "equal_opportunity_difference_gender  -0.0729 -0.1222   67.6353"
      ]
     },
     "execution_count": 193,
     "metadata": {},
     "output_type": "execute_result"
    }
   ],
   "source": [
    "metrics_comparison_rf_DIR"
   ]
  },
  {
   "cell_type": "code",
   "execution_count": 194,
   "metadata": {},
   "outputs": [],
   "source": [
    "rf_reweight_metric = fair_metrics(metric_df, y_preds_rf_reweight, 'income', ['gender'])\n",
    "metrics_comparison_rf_reweight = pd.DataFrame([rf_metric,lr_reweight_metric], index=['rf','rf reweight']).T\n",
    "metrics_comparison_rf_reweight['change %'] = ((metrics_comparison_rf_reweight['rf reweight'] - metrics_comparison_rf_reweight['rf']) / metrics_comparison_rf_reweight['rf']) * 100"
   ]
  },
  {
   "cell_type": "code",
   "execution_count": 195,
   "metadata": {},
   "outputs": [
    {
     "data": {
      "text/html": [
       "<div>\n",
       "<style scoped>\n",
       "    .dataframe tbody tr th:only-of-type {\n",
       "        vertical-align: middle;\n",
       "    }\n",
       "\n",
       "    .dataframe tbody tr th {\n",
       "        vertical-align: top;\n",
       "    }\n",
       "\n",
       "    .dataframe thead th {\n",
       "        text-align: right;\n",
       "    }\n",
       "</style>\n",
       "<table border=\"1\" class=\"dataframe\">\n",
       "  <thead>\n",
       "    <tr style=\"text-align: right;\">\n",
       "      <th></th>\n",
       "      <th>rf</th>\n",
       "      <th>rf reweight</th>\n",
       "      <th>change %</th>\n",
       "    </tr>\n",
       "  </thead>\n",
       "  <tbody>\n",
       "    <tr>\n",
       "      <th>disparate_impact_gender</th>\n",
       "      <td>0.3170</td>\n",
       "      <td>0.3249</td>\n",
       "      <td>2.4834</td>\n",
       "    </tr>\n",
       "    <tr>\n",
       "      <th>statistical_parity_difference_gender</th>\n",
       "      <td>-0.1810</td>\n",
       "      <td>-0.1789</td>\n",
       "      <td>-1.1226</td>\n",
       "    </tr>\n",
       "    <tr>\n",
       "      <th>equal_opportunity_difference_gender</th>\n",
       "      <td>-0.0729</td>\n",
       "      <td>-0.0714</td>\n",
       "      <td>-1.9860</td>\n",
       "    </tr>\n",
       "  </tbody>\n",
       "</table>\n",
       "</div>"
      ],
      "text/plain": [
       "                                          rf  rf reweight  change %\n",
       "disparate_impact_gender               0.3170       0.3249    2.4834\n",
       "statistical_parity_difference_gender -0.1810      -0.1789   -1.1226\n",
       "equal_opportunity_difference_gender  -0.0729      -0.0714   -1.9860"
      ]
     },
     "execution_count": 195,
     "metadata": {},
     "output_type": "execute_result"
    }
   ],
   "source": [
    "metrics_comparison_rf_reweight"
   ]
  }
 ],
 "metadata": {
  "kernelspec": {
   "display_name": "Python 3.9.13 64-bit (windows store)",
   "language": "python",
   "name": "python3"
  },
  "language_info": {
   "codemirror_mode": {
    "name": "ipython",
    "version": 3
   },
   "file_extension": ".py",
   "mimetype": "text/x-python",
   "name": "python",
   "nbconvert_exporter": "python",
   "pygments_lexer": "ipython3",
   "version": "3.9.13"
  },
  "orig_nbformat": 4,
  "vscode": {
   "interpreter": {
    "hash": "8723faa727b3454d45029a3f0ac1bbe48db2ba55e14042fadf0a7bf15ec4eb4c"
   }
  }
 },
 "nbformat": 4,
 "nbformat_minor": 2
}
